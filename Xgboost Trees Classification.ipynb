{
 "cells": [
  {
   "cell_type": "code",
   "execution_count": 1,
   "metadata": {},
   "outputs": [],
   "source": [
    "import pandas as pd\n",
    "from matplotlib import pyplot as plt\n",
    "from sklearn.tree import DecisionTreeRegressor, plot_tree\n",
    "from sklearn import tree\n",
    "import numpy as np\n",
    "import handcalcs.render"
   ]
  },
  {
   "cell_type": "code",
   "execution_count": 2,
   "metadata": {},
   "outputs": [
    {
     "data": {
      "text/html": [
       "<div>\n",
       "<style scoped>\n",
       "    .dataframe tbody tr th:only-of-type {\n",
       "        vertical-align: middle;\n",
       "    }\n",
       "\n",
       "    .dataframe tbody tr th {\n",
       "        vertical-align: top;\n",
       "    }\n",
       "\n",
       "    .dataframe thead th {\n",
       "        text-align: right;\n",
       "    }\n",
       "</style>\n",
       "<table border=\"1\" class=\"dataframe\">\n",
       "  <thead>\n",
       "    <tr style=\"text-align: right;\">\n",
       "      <th></th>\n",
       "      <th>Drug Dosage</th>\n",
       "      <th>Drug Effectiveness</th>\n",
       "      <th>Drug Effectiveness (new)</th>\n",
       "    </tr>\n",
       "  </thead>\n",
       "  <tbody>\n",
       "    <tr>\n",
       "      <th>0</th>\n",
       "      <td>4</td>\n",
       "      <td>0</td>\n",
       "      <td>-0.5</td>\n",
       "    </tr>\n",
       "    <tr>\n",
       "      <th>1</th>\n",
       "      <td>6</td>\n",
       "      <td>1</td>\n",
       "      <td>0.5</td>\n",
       "    </tr>\n",
       "    <tr>\n",
       "      <th>2</th>\n",
       "      <td>11</td>\n",
       "      <td>1</td>\n",
       "      <td>0.5</td>\n",
       "    </tr>\n",
       "    <tr>\n",
       "      <th>3</th>\n",
       "      <td>20</td>\n",
       "      <td>0</td>\n",
       "      <td>-0.5</td>\n",
       "    </tr>\n",
       "  </tbody>\n",
       "</table>\n",
       "</div>"
      ],
      "text/plain": [
       "   Drug Dosage  Drug Effectiveness  Drug Effectiveness (new)\n",
       "0            4                   0                      -0.5\n",
       "1            6                   1                       0.5\n",
       "2           11                   1                       0.5\n",
       "3           20                   0                      -0.5"
      ]
     },
     "execution_count": 2,
     "metadata": {},
     "output_type": "execute_result"
    }
   ],
   "source": [
    "data = pd.DataFrame({'Drug Dosage': [4,6,11,20],\n",
    "                    'Drug Effectiveness':[0,1,1,0]})\n",
    "\n",
    "data['Drug Effectiveness (new)'] = data['Drug Effectiveness'] - 0.5\n",
    "data"
   ]
  },
  {
   "cell_type": "code",
   "execution_count": 3,
   "metadata": {},
   "outputs": [
    {
     "data": {
      "image/png": "[encoded data removed]",
      "text/plain": [
       "<Figure size 360x288 with 1 Axes>"
      ]
     },
     "metadata": {
      "needs_background": "light"
     },
     "output_type": "display_data"
    }
   ],
   "source": [
    "X,y = data[['Drug Dosage']], data['Drug Effectiveness (new)'] \n",
    "tree1 = DecisionTreeRegressor(max_depth=2)\n",
    "tree1 = tree1.fit(X, y)\n",
    "\n",
    "fig = plt.figure(figsize=(5,4))\n",
    "_ = tree.plot_tree(tree1, feature_names = X.columns, filled = True)"
   ]
  },
  {
   "cell_type": "code",
   "execution_count": 4,
   "metadata": {},
   "outputs": [],
   "source": [
    "row1, row2, row3, row4 = np.split(data['Drug Effectiveness (new)'].values,4)\n",
    "\n",
    "Lambda = 0\n",
    "PreviousProbability = (np.ones(4)-0.5)*0.5"
   ]
  },
  {
   "cell_type": "code",
   "execution_count": 5,
   "metadata": {},
   "outputs": [
    {
     "data": {
      "text/latex": [
       "\\[\n",
       "\\begin{aligned}\n",
       "\\mathrm{residual} &= \\mathrm{sum} \\left( \\mathrm{row1} ,\\  \\mathrm{row2} ,\\  \\mathrm{row3} ,\\  \\mathrm{row4} \\right) ^{ 2 } = sum \\left( [-0.5] ,\\  [0.5] ,\\  [0.5] ,\\  [-0.5] \\right) ^{ 2 } &= [0.0]\\;\\;\\textrm{(total residaul)}\n",
       "\\\\[10pt]\n",
       "\\mathrm{similar} &= \\frac{ \\mathrm{residual} }{ \\mathrm{sum} \\mathrm{PreviousProbability} + \\mathrm{Lambda} } = \\frac{ [0.0] }{ sum [0.25,\\ 0.25,\\ 0.25,\\ 0.25] + 0 } &= [0.0]\\;\\;\\textrm{(similarity score)}\n",
       "\\end{aligned}\n",
       "\\]"
      ],
      "text/plain": [
       "<IPython.core.display.Latex object>"
      ]
     },
     "metadata": {},
     "output_type": "display_data"
    }
   ],
   "source": [
    "%%render\n",
    "residual = sum((row1, row2, row3, row4))**2 # total residaul \n",
    "similar = residual/(sum(PreviousProbability) + Lambda) # similarity score"
   ]
  },
  {
   "cell_type": "code",
   "execution_count": 6,
   "metadata": {},
   "outputs": [
    {
     "data": {
      "text/plain": [
       "(array([-0.5]), array([ 0.5,  0.5, -0.5]))"
      ]
     },
     "execution_count": 6,
     "metadata": {},
     "output_type": "execute_result"
    }
   ],
   "source": [
    "row1, row2 = np.split(data['Drug Effectiveness (new)'].values,[1])\n",
    "PreviousProbability = (np.ones(1)-0.5)*0.5\n",
    "row1,row2"
   ]
  },
  {
   "cell_type": "code",
   "execution_count": 7,
   "metadata": {},
   "outputs": [
    {
     "data": {
      "text/latex": [
       "\\[\n",
       "\\begin{aligned}\n",
       "\\mathrm{residual} &= \\mathrm{sum} \\mathrm{row1} ^{ 2 } = sum [-0.5] ^{ 2 } &= 0.25\\;\\;\\textrm{(total residaul)}\n",
       "\\\\[10pt]\n",
       "\\mathrm{similar1} &= \\frac{ \\mathrm{residual} }{ \\mathrm{sum} \\mathrm{PreviousProbability} + \\mathrm{Lambda} } = \\frac{ 0.25 }{ sum [0.25] + 0 } &= 1.0\\;\\;\\textrm{(similarity score)}\n",
       "\\end{aligned}\n",
       "\\]"
      ],
      "text/plain": [
       "<IPython.core.display.Latex object>"
      ]
     },
     "metadata": {},
     "output_type": "display_data"
    }
   ],
   "source": [
    "%%render\n",
    "residual = sum((row1))**2 # total residaul \n",
    "similar1 = residual/(sum(PreviousProbability) + Lambda) # similarity score"
   ]
  },
  {
   "cell_type": "code",
   "execution_count": 8,
   "metadata": {},
   "outputs": [],
   "source": [
    "PreviousProbability = (np.ones(3)-0.5)*0.5"
   ]
  },
  {
   "cell_type": "code",
   "execution_count": 9,
   "metadata": {},
   "outputs": [
    {
     "data": {
      "text/latex": [
       "\\[\n",
       "\\begin{aligned}\n",
       "\\mathrm{residual} &= \\mathrm{sum} \\mathrm{row2} ^{ 2 } = sum [0.5,\\ 0.5,\\ -0.5] ^{ 2 } &= 0.25\\;\\;\\textrm{(total residaul)}\n",
       "\\\\[10pt]\n",
       "\\mathrm{similar2} &= \\frac{ \\mathrm{residual} }{ \\mathrm{sum} \\mathrm{PreviousProbability} + \\mathrm{Lambda} } = \\frac{ 0.25 }{ sum [0.25,\\ 0.25,\\ 0.25] + 0 } &= 0.333\\;\\;\\textrm{(similarity score)}\n",
       "\\end{aligned}\n",
       "\\]"
      ],
      "text/plain": [
       "<IPython.core.display.Latex object>"
      ]
     },
     "metadata": {},
     "output_type": "display_data"
    }
   ],
   "source": [
    "%%render\n",
    "residual = sum((row2))**2 # total residaul \n",
    "similar2 = residual/(sum(PreviousProbability) + Lambda) # similarity score"
   ]
  },
  {
   "cell_type": "code",
   "execution_count": 10,
   "metadata": {},
   "outputs": [
    {
     "data": {
      "text/latex": [
       "\\[\n",
       "\\begin{aligned}\n",
       "\\mathrm{gain} &= \\mathrm{similar1} + \\mathrm{similar2} - \\mathrm{similar} = 1.0 + 0.333 - [0.0] &= [1.333]\n",
       "\\end{aligned}\n",
       "\\]"
      ],
      "text/plain": [
       "<IPython.core.display.Latex object>"
      ]
     },
     "metadata": {},
     "output_type": "display_data"
    }
   ],
   "source": [
    "%%render\n",
    "gain = similar1 + similar2 -similar"
   ]
  },
  {
   "cell_type": "code",
   "execution_count": 11,
   "metadata": {},
   "outputs": [],
   "source": [
    "row1, row2 = np.split(data['Drug Effectiveness (new)'][1:].values,[2])\n",
    "PreviousProbability = (np.ones(2)-0.5)*0.5"
   ]
  },
  {
   "cell_type": "code",
   "execution_count": 12,
   "metadata": {},
   "outputs": [
    {
     "data": {
      "text/latex": [
       "\\[\n",
       "\\begin{aligned}\n",
       "\\mathrm{residual} &= \\mathrm{sum} \\mathrm{row1} ^{ 2 } = sum [0.5,\\ 0.5] ^{ 2 } &= 1.0\\;\\;\\textrm{(total residaul)}\n",
       "\\\\[10pt]\n",
       "\\mathrm{similar3} &= \\frac{ \\mathrm{residual} }{ \\mathrm{sum} \\mathrm{PreviousProbability} + \\mathrm{Lambda} } = \\frac{ 1.0 }{ sum [0.25,\\ 0.25] + 0 } &= 2.0\\;\\;\\textrm{(similarity score)}\n",
       "\\end{aligned}\n",
       "\\]"
      ],
      "text/plain": [
       "<IPython.core.display.Latex object>"
      ]
     },
     "metadata": {},
     "output_type": "display_data"
    }
   ],
   "source": [
    "%%render\n",
    "residual = sum((row1))**2 # total residaul \n",
    "similar3 = residual/(sum(PreviousProbability) + Lambda) # similarity score"
   ]
  },
  {
   "cell_type": "code",
   "execution_count": 13,
   "metadata": {},
   "outputs": [],
   "source": [
    "PreviousProbability = (np.ones(1)-0.5)*0.5"
   ]
  },
  {
   "cell_type": "code",
   "execution_count": 14,
   "metadata": {},
   "outputs": [
    {
     "data": {
      "text/latex": [
       "\\[\n",
       "\\begin{aligned}\n",
       "\\mathrm{residual} &= \\mathrm{sum} \\mathrm{row2} ^{ 2 } = sum [-0.5] ^{ 2 } &= 0.25\\;\\;\\textrm{(total residaul)}\n",
       "\\\\[10pt]\n",
       "\\mathrm{similar4} &= \\frac{ \\mathrm{residual} }{ \\mathrm{sum} \\mathrm{PreviousProbability} + \\mathrm{Lambda} } = \\frac{ 0.25 }{ sum [0.25] + 0 } &= 1.0\\;\\;\\textrm{(similarity score)}\n",
       "\\end{aligned}\n",
       "\\]"
      ],
      "text/plain": [
       "<IPython.core.display.Latex object>"
      ]
     },
     "metadata": {},
     "output_type": "display_data"
    }
   ],
   "source": [
    "%%render\n",
    "residual = sum((row2))**2 # total residaul \n",
    "similar4 = residual/(sum(PreviousProbability) + Lambda) # similarity score"
   ]
  },
  {
   "cell_type": "code",
   "execution_count": 15,
   "metadata": {},
   "outputs": [
    {
     "data": {
      "text/latex": [
       "\\[\n",
       "\\begin{aligned}\n",
       "\\mathrm{gain2} &= \\mathrm{similar3} + \\mathrm{similar4} - \\mathrm{similar2} = 2.0 + 1.0 - 0.333 &= 2.667\n",
       "\\end{aligned}\n",
       "\\]"
      ],
      "text/plain": [
       "<IPython.core.display.Latex object>"
      ]
     },
     "metadata": {},
     "output_type": "display_data"
    }
   ],
   "source": [
    "%%render\n",
    "gain2 = similar3 + similar4 -similar2"
   ]
  },
  {
   "cell_type": "markdown",
   "metadata": {},
   "source": [
    "### Cover is defined as the denominator of the similarity score minus lambda\n",
    "**it is sum of previous probability * (1- previous probability)**\n",
    "\n",
    "**set min_child_weight as 0**\n",
    "\n",
    "**set Gamma as 2**"
   ]
  },
  {
   "cell_type": "code",
   "execution_count": 16,
   "metadata": {},
   "outputs": [
    {
     "name": "stdout",
     "output_type": "stream",
     "text": [
      "False [ True]\n",
      "True [ True]\n"
     ]
    }
   ],
   "source": [
    "gamma = 2\n",
    "\n",
    "# we will not remove the first branch, \n",
    "# then we compare the root\n",
    "# since we did not remove the first branch\n",
    "# we will not remove the root\n",
    "# then we will not remove the root. \n",
    "print(gamma > gain2,  gamma > gain)\n",
    "\n",
    "gamma = 3\n",
    "# we  remove the first branch, \n",
    "# then we compare the root,\n",
    "# both branch and root are smaller than gain\n",
    "# we will not remove the root and branch\n",
    "print(gamma > gain2, gamma > gain)"
   ]
  },
  {
   "cell_type": "markdown",
   "metadata": {},
   "source": [
    "#### Set the lambda to a positive number\n",
    "#### the similartiy score shrinks"
   ]
  },
  {
   "cell_type": "code",
   "execution_count": 38,
   "metadata": {},
   "outputs": [
    {
     "name": "stdout",
     "output_type": "stream",
     "text": [
      "0.35434369377420455 0.6456563062257954 0.35434369377420455\n"
     ]
    }
   ],
   "source": [
    "learning_rate = 0.3 \n",
    "\n",
    "output = np.exp(np.log(0.5/(1-0.5)) + 0.3 * -0.5/(0.5**2))\n",
    "output2 = np.exp(np.log(0.5/(1-0.5)) + 0.3 * (0.5+0.5)/(0.5**2*2))\n",
    "output3 = np.exp(np.log(0.5/(1-0.5)) +0.3* -0.5/(0.5**2))\n",
    "\n",
    "print(output/(1+output), output2/(1+output2), output3/(1+output3))"
   ]
  },
  {
   "cell_type": "code",
   "execution_count": 40,
   "metadata": {},
   "outputs": [
    {
     "data": {
      "text/html": [
       "<div>\n",
       "<style scoped>\n",
       "    .dataframe tbody tr th:only-of-type {\n",
       "        vertical-align: middle;\n",
       "    }\n",
       "\n",
       "    .dataframe tbody tr th {\n",
       "        vertical-align: top;\n",
       "    }\n",
       "\n",
       "    .dataframe thead th {\n",
       "        text-align: right;\n",
       "    }\n",
       "</style>\n",
       "<table border=\"1\" class=\"dataframe\">\n",
       "  <thead>\n",
       "    <tr style=\"text-align: right;\">\n",
       "      <th></th>\n",
       "      <th>Drug Dosage</th>\n",
       "      <th>Drug Effectiveness</th>\n",
       "      <th>Drug Effectiveness (new)</th>\n",
       "      <th>Probability</th>\n",
       "      <th>New Residual</th>\n",
       "    </tr>\n",
       "  </thead>\n",
       "  <tbody>\n",
       "    <tr>\n",
       "      <th>0</th>\n",
       "      <td>4</td>\n",
       "      <td>0</td>\n",
       "      <td>-0.5</td>\n",
       "      <td>0.354344</td>\n",
       "      <td>-0.354344</td>\n",
       "    </tr>\n",
       "    <tr>\n",
       "      <th>1</th>\n",
       "      <td>6</td>\n",
       "      <td>1</td>\n",
       "      <td>0.5</td>\n",
       "      <td>0.645656</td>\n",
       "      <td>0.354344</td>\n",
       "    </tr>\n",
       "    <tr>\n",
       "      <th>2</th>\n",
       "      <td>11</td>\n",
       "      <td>1</td>\n",
       "      <td>0.5</td>\n",
       "      <td>0.645656</td>\n",
       "      <td>0.354344</td>\n",
       "    </tr>\n",
       "    <tr>\n",
       "      <th>3</th>\n",
       "      <td>20</td>\n",
       "      <td>0</td>\n",
       "      <td>-0.5</td>\n",
       "      <td>0.354344</td>\n",
       "      <td>-0.354344</td>\n",
       "    </tr>\n",
       "  </tbody>\n",
       "</table>\n",
       "</div>"
      ],
      "text/plain": [
       "   Drug Dosage  Drug Effectiveness  Drug Effectiveness (new)  Probability  \\\n",
       "0            4                   0                      -0.5     0.354344   \n",
       "1            6                   1                       0.5     0.645656   \n",
       "2           11                   1                       0.5     0.645656   \n",
       "3           20                   0                      -0.5     0.354344   \n",
       "\n",
       "   New Residual  \n",
       "0     -0.354344  \n",
       "1      0.354344  \n",
       "2      0.354344  \n",
       "3     -0.354344  "
      ]
     },
     "execution_count": 40,
     "metadata": {},
     "output_type": "execute_result"
    }
   ],
   "source": [
    "data['Probability'] = [output/(1+output), output2/(1+output2),output2/(1+output2), output3/(1+output3)]\n",
    "data['New Residual'] = data['Drug Effectiveness'] - data['Probability']\n",
    "data"
   ]
  },
  {
   "cell_type": "code",
   "execution_count": 41,
   "metadata": {},
   "outputs": [
    {
     "data": {
      "image/png": "[encoded data removed]",
      "text/plain": [
       "<Figure size 360x288 with 1 Axes>"
      ]
     },
     "metadata": {
      "needs_background": "light"
     },
     "output_type": "display_data"
    }
   ],
   "source": [
    "X,y = data[['Drug Dosage']], data['New Residual'] \n",
    "tree1 = DecisionTreeRegressor(max_depth=2)\n",
    "tree1 = tree1.fit(X, y)\n",
    "\n",
    "fig = plt.figure(figsize=(5,4))\n",
    "_ = tree.plot_tree(tree1, feature_names = X.columns, filled = True)"
   ]
  },
  {
   "cell_type": "code",
   "execution_count": 42,
   "metadata": {},
   "outputs": [
    {
     "data": {
      "text/plain": [
       "array([-0.47990315,  0.22878424,  0.22878424, -0.47990315])"
      ]
     },
     "execution_count": 42,
     "metadata": {},
     "output_type": "execute_result"
    }
   ],
   "source": [
    "row1, row2, row3, row4 = np.split(data['New Residual'].values,4)\n",
    "\n",
    "Lambda = 0\n",
    "PreviousProbability = (np.ones(4)-data['New Residual'].values)*data['New Residual'].values\n"
   ]
  },
  {
   "cell_type": "code",
   "execution_count": 43,
   "metadata": {},
   "outputs": [
    {
     "data": {
      "text/latex": [
       "\\[\n",
       "\\begin{aligned}\n",
       "\\mathrm{residual} &= \\mathrm{sum} \\left( \\mathrm{row1} ,\\  \\mathrm{row2} ,\\  \\mathrm{row3} ,\\  \\mathrm{row4} \\right) ^{ 2 } = sum \\left( [-0.354] ,\\  [0.354] ,\\  [0.354] ,\\  [-0.354] \\right) ^{ 2 } &= [0.0]\\;\\;\\textrm{(total residaul)}\n",
       "\\\\[10pt]\n",
       "\\mathrm{similar} &= \\frac{ \\mathrm{residual} }{ \\mathrm{sum} \\mathrm{PreviousProbability} + \\mathrm{Lambda} } = \\frac{ [0.0] }{ sum [-0.48,\\ 0.229,\\ 0.229,\\ -0.48] + 0 } &= [-0.0]\\;\\;\\textrm{(similarity score)}\n",
       "\\end{aligned}\n",
       "\\]"
      ],
      "text/plain": [
       "<IPython.core.display.Latex object>"
      ]
     },
     "metadata": {},
     "output_type": "display_data"
    }
   ],
   "source": [
    "%%render\n",
    "residual = sum((row1, row2, row3, row4))**2 # total residaul \n",
    "similar = residual/(sum(PreviousProbability) + Lambda) # similarity score"
   ]
  },
  {
   "cell_type": "code",
   "execution_count": null,
   "metadata": {},
   "outputs": [],
   "source": [
    "# using the new prediction, the residual is smaller than before,\n",
    "# we take another step toward right direction, \n",
    "# We build another tree based on the residual, and predict those residual on the second tree\n",
    "# we repeat the process until we reach the maximum numbers of trees or residual is small enough"
   ]
  }
 ],
 "metadata": {
  "kernelspec": {
   "display_name": "Python 3",
   "language": "python",
   "name": "python3"
  },
  "language_info": {
   "codemirror_mode": {
    "name": "ipython",
    "version": 3
   },
   "file_extension": ".py",
   "mimetype": "text/x-python",
   "name": "python",
   "nbconvert_exporter": "python",
   "pygments_lexer": "ipython3",
   "version": "3.7.9"
  }
 },
 "nbformat": 4,
 "nbformat_minor": 4
}
