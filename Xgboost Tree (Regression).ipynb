{
 "cells": [
  {
   "cell_type": "code",
   "execution_count": 1,
   "metadata": {},
   "outputs": [],
   "source": [
    "import pandas as pd\n",
    "from matplotlib import pyplot as plt\n",
    "from sklearn.tree import DecisionTreeRegressor, plot_tree\n",
    "from sklearn import tree\n",
    "import numpy as np\n",
    "import handcalcs.render"
   ]
  },
  {
   "cell_type": "code",
   "execution_count": 2,
   "metadata": {},
   "outputs": [],
   "source": [
    "data = pd.DataFrame({'Drug Dosage': [8,18,25,34],\n",
    "                    'Drug Effectiveness':[-10,7,8,-7]})\n",
    "\n",
    "data['Drug Effectiveness (new)'] = data['Drug Effectiveness'] - 0.5\n"
   ]
  },
  {
   "cell_type": "code",
   "execution_count": 3,
   "metadata": {},
   "outputs": [
    {
     "data": {
      "image/png": "[encoded data removed]",
      "text/plain": [
       "<Figure size 360x288 with 1 Axes>"
      ]
     },
     "metadata": {
      "needs_background": "light"
     },
     "output_type": "display_data"
    }
   ],
   "source": [
    "X,y = data[['Drug Dosage']], data['Drug Effectiveness (new)'] \n",
    "tree1 = DecisionTreeRegressor(max_depth=2)\n",
    "tree1 = tree1.fit(X, y)\n",
    "\n",
    "fig = plt.figure(figsize=(5,4))\n",
    "_ = tree.plot_tree(tree1, feature_names = X.columns, filled = True)"
   ]
  },
  {
   "cell_type": "code",
   "execution_count": null,
   "metadata": {},
   "outputs": [],
   "source": []
  },
  {
   "cell_type": "code",
   "execution_count": 4,
   "metadata": {},
   "outputs": [],
   "source": [
    "row1, row2, row3, row4 = np.split(data['Drug Effectiveness (new)'].values,4)\n",
    "\n",
    "Lambda = 0\n",
    "numofresiduals = 4"
   ]
  },
  {
   "cell_type": "code",
   "execution_count": 5,
   "metadata": {},
   "outputs": [
    {
     "data": {
      "text/latex": [
       "\\[\n",
       "\\begin{aligned}\n",
       "\\mathrm{residual} &= \\mathrm{sum} \\left( \\mathrm{row1} ,\\  \\mathrm{row2} ,\\  \\mathrm{row3} ,\\  \\mathrm{row4} \\right) ^{ 2 } = sum \\left( [-10.5] ,\\  [6.5] ,\\  [7.5] ,\\  [-7.5] \\right) ^{ 2 } &= [16.0]\\;\\;\\textrm{(total residaul)}\n",
       "\\\\[10pt]\n",
       "\\mathrm{similar} &= \\frac{ \\mathrm{residual} }{ 4 + \\mathrm{Lambda} } = \\frac{ [16.0] }{ 4 + 0 } &= [4.0]\\;\\;\\textrm{(similarity score)}\n",
       "\\end{aligned}\n",
       "\\]"
      ],
      "text/plain": [
       "<IPython.core.display.Latex object>"
      ]
     },
     "metadata": {},
     "output_type": "display_data"
    }
   ],
   "source": [
    "%%render\n",
    "residual = sum((row1, row2, row3, row4))**2 # total residaul \n",
    "similar = residual/(4 + Lambda) # similarity score"
   ]
  },
  {
   "cell_type": "code",
   "execution_count": null,
   "metadata": {},
   "outputs": [],
   "source": []
  },
  {
   "cell_type": "code",
   "execution_count": 6,
   "metadata": {},
   "outputs": [],
   "source": [
    "row1, row2 = np.split(data['Drug Effectiveness (new)'].values,[1])"
   ]
  },
  {
   "cell_type": "code",
   "execution_count": 7,
   "metadata": {},
   "outputs": [
    {
     "data": {
      "text/latex": [
       "\\[\n",
       "\\begin{aligned}\n",
       "\\mathrm{residual} &= \\mathrm{sum} \\mathrm{row1} ^{ 2 } = sum [-10.5] ^{ 2 } &= 110.25\\;\\;\\textrm{(total residaul)}\n",
       "\\\\[10pt]\n",
       "\\mathrm{similar1} &= \\frac{ \\mathrm{residual} }{ \\mathrm{len} \\mathrm{row1} + \\mathrm{Lambda} } = \\frac{ 110.25 }{ len [-10.5] + 0 } &= 110.25\\;\\;\\textrm{(similarity score for 1st level left leaf)}\n",
       "\\end{aligned}\n",
       "\\]"
      ],
      "text/plain": [
       "<IPython.core.display.Latex object>"
      ]
     },
     "metadata": {},
     "output_type": "display_data"
    }
   ],
   "source": [
    "%%render\n",
    "residual = sum((row1))**2 # total residaul \n",
    "similar1 = residual/(len(row1) + Lambda) # similarity score for 1st level left leaf"
   ]
  },
  {
   "cell_type": "code",
   "execution_count": 8,
   "metadata": {},
   "outputs": [
    {
     "data": {
      "text/latex": [
       "\\[\n",
       "\\begin{aligned}\n",
       "\\mathrm{residual} &= \\mathrm{sum} \\mathrm{row2} ^{ 2 } = sum [6.5,\\ 7.5,\\ -7.5] ^{ 2 } &= 42.25\\;\\;\\textrm{(total residaul)}\n",
       "\\\\[10pt]\n",
       "\\mathrm{similar2} &= \\frac{ \\mathrm{residual} }{ \\mathrm{len} \\mathrm{row2} + \\mathrm{Lambda} } = \\frac{ 42.25 }{ len [6.5,\\ 7.5,\\ -7.5] + 0 } &= 14.083\\;\\;\\textrm{(similarity score for 1st level right leaf)}\n",
       "\\end{aligned}\n",
       "\\]"
      ],
      "text/plain": [
       "<IPython.core.display.Latex object>"
      ]
     },
     "metadata": {},
     "output_type": "display_data"
    }
   ],
   "source": [
    "%%render\n",
    "residual = sum((row2))**2 # total residaul \n",
    "similar2 = residual/(len(row2) + Lambda) # similarity score for 1st level right leaf"
   ]
  },
  {
   "cell_type": "code",
   "execution_count": 9,
   "metadata": {},
   "outputs": [
    {
     "data": {
      "text/latex": [
       "\\[\n",
       "\\begin{aligned}\n",
       "\\mathrm{gain} &= \\mathrm{similar1} + \\mathrm{similar2} - \\mathrm{similar} = 110.25 + 14.083 - [4.0] &= [120.333]\n",
       "\\end{aligned}\n",
       "\\]"
      ],
      "text/plain": [
       "<IPython.core.display.Latex object>"
      ]
     },
     "metadata": {},
     "output_type": "display_data"
    }
   ],
   "source": [
    "%%render\n",
    "gain = similar1 + similar2 - similar"
   ]
  },
  {
   "cell_type": "code",
   "execution_count": null,
   "metadata": {},
   "outputs": [],
   "source": []
  },
  {
   "cell_type": "code",
   "execution_count": 10,
   "metadata": {},
   "outputs": [],
   "source": [
    "row1, row2 = np.split(data['Drug Effectiveness (new)'][1:].values, [2])"
   ]
  },
  {
   "cell_type": "code",
   "execution_count": 11,
   "metadata": {},
   "outputs": [
    {
     "data": {
      "text/latex": [
       "\\[\n",
       "\\begin{aligned}\n",
       "\\mathrm{residual} &= \\mathrm{sum} \\mathrm{row1} ^{ 2 } = sum [6.5,\\ 7.5] ^{ 2 } &= 196.0\\;\\;\\textrm{(total residaul)}\n",
       "\\\\[10pt]\n",
       "\\mathrm{similar3} &= \\frac{ \\mathrm{residual} }{ \\mathrm{len} \\mathrm{row1} + \\mathrm{Lambda} } = \\frac{ 196.0 }{ len [6.5,\\ 7.5] + 0 } &= 98.0\\;\\;\\textrm{(similarity score for 2nd level right leaf)}\n",
       "\\end{aligned}\n",
       "\\]"
      ],
      "text/plain": [
       "<IPython.core.display.Latex object>"
      ]
     },
     "metadata": {},
     "output_type": "display_data"
    }
   ],
   "source": [
    "%%render\n",
    "residual = sum((row1))**2 # total residaul \n",
    "similar3 = residual/(len(row1) + Lambda) # similarity score for 2nd level right leaf\n"
   ]
  },
  {
   "cell_type": "code",
   "execution_count": 12,
   "metadata": {},
   "outputs": [
    {
     "data": {
      "text/latex": [
       "\\[\n",
       "\\begin{aligned}\n",
       "\\mathrm{residual} &= \\mathrm{sum} \\mathrm{row2} ^{ 2 } = sum [-7.5] ^{ 2 } &= 56.25\\;\\;\\textrm{(total residaul)}\n",
       "\\\\[10pt]\n",
       "\\mathrm{similar4} &= \\frac{ \\mathrm{residual} }{ \\mathrm{len} \\mathrm{row2} + \\mathrm{Lambda} } = \\frac{ 56.25 }{ len [-7.5] + 0 } &= 56.25\n",
       "\\end{aligned}\n",
       "\\]"
      ],
      "text/plain": [
       "<IPython.core.display.Latex object>"
      ]
     },
     "metadata": {},
     "output_type": "display_data"
    }
   ],
   "source": [
    "%%render\n",
    "residual = sum((row2))**2 # total residaul \n",
    "similar4 = residual/(len(row2) + Lambda) # similarity score for # 2nd level left leaf\n"
   ]
  },
  {
   "cell_type": "code",
   "execution_count": 13,
   "metadata": {},
   "outputs": [
    {
     "data": {
      "text/plain": [
       "140.16666666666666"
      ]
     },
     "execution_count": 13,
     "metadata": {},
     "output_type": "execute_result"
    }
   ],
   "source": [
    "gain2 = similar3 +similar4 - similar2\n",
    "gain2"
   ]
  },
  {
   "cell_type": "markdown",
   "metadata": {},
   "source": [
    "### Gamma and lambda are the two parameters to prune the tree\n",
    "\n",
    "1. Let us take a look at the lambda, lambda will shrink the size of the similiarity score\n",
    "- since lambda is in the numerator\n",
    "\n",
    "2. gamma is the threshold for the gain."
   ]
  },
  {
   "cell_type": "code",
   "execution_count": 21,
   "metadata": {},
   "outputs": [
    {
     "name": "stdout",
     "output_type": "stream",
     "text": [
      "False [ True]\n",
      "True [ True]\n"
     ]
    }
   ],
   "source": [
    "gamma = 130\n",
    "\n",
    "# we will not remove the first branch, \n",
    "# then we compare the root\n",
    "# since we did not remove the first branch\n",
    "# we will not remove the root\n",
    "# then we will not remove the root. \n",
    "print(gamma > gain2,  gamma > gain)\n",
    "\n",
    "gamma = 150\n",
    "# we  remove the first branch, \n",
    "# then we compare the root,\n",
    "# both branch and root are smaller than gain\n",
    "# we will not remove the root and branch\n",
    "print(gamma > gain2, gamma > gain)"
   ]
  },
  {
   "cell_type": "code",
   "execution_count": 22,
   "metadata": {},
   "outputs": [
    {
     "name": "stdout",
     "output_type": "stream",
     "text": [
      "-2.65 2.6 -1.75\n"
     ]
    }
   ],
   "source": [
    "learning_rate = 0.3 \n",
    "\n",
    "output = 0.5 + 0.3 * -10.5\n",
    "output2 = 0.5 + 0.3*7\n",
    "output3 = 0.5 +0.3*-7.5\n",
    "print(output, output2, output3)\n"
   ]
  },
  {
   "cell_type": "code",
   "execution_count": 23,
   "metadata": {},
   "outputs": [],
   "source": [
    "# using the new prediction, the residual is smaller than before,\n",
    "# we take another step toward right direction, \n",
    "# We build another tree based on the residual, and predict those residual on the second tree\n",
    "# we repeat the process until we reach the maximum numbers of trees or residual is small enough"
   ]
  }
 ],
 "metadata": {
  "kernelspec": {
   "display_name": "Python 3",
   "language": "python",
   "name": "python3"
  },
  "language_info": {
   "codemirror_mode": {
    "name": "ipython",
    "version": 3
   },
   "file_extension": ".py",
   "mimetype": "text/x-python",
   "name": "python",
   "nbconvert_exporter": "python",
   "pygments_lexer": "ipython3",
   "version": "3.7.9"
  }
 },
 "nbformat": 4,
 "nbformat_minor": 4
}
